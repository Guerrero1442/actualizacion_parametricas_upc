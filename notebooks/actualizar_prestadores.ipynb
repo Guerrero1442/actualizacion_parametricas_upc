{
 "cells": [
  {
   "cell_type": "code",
   "execution_count": null,
   "metadata": {},
   "outputs": [],
   "source": [
    "import pathlib\n",
    "import tempfile\n",
    "from tkinter import filedialog\n",
    "import zipfile\n",
    "import logging\n",
    "\n",
    "import pandas as pd\n",
    "from sqlalchemy import create_engine"
   ]
  },
  {
   "cell_type": "code",
   "execution_count": null,
   "metadata": {},
   "outputs": [],
   "source": [
    "import sys\n",
    "sys.path.append(r'D:\\Keralty scripts\\automatizaciones_python\\actualizacion_parametricas_upc\\database\\operaciones_bdoracle.py')\n",
    "from operaciones_bdoracle import actualizar_datos_oracle, conectar_base_oracle, creacion_tabla_actualizada, obtener_datos_oracle"
   ]
  },
  {
   "cell_type": "code",
   "execution_count": null,
   "metadata": {},
   "outputs": [],
   "source": [
    "# Constantes\n",
    "NOMBRE_TABLA_PRESTADORES = 'tbl_ope_universo_prestadores'\n",
    "COLUMNAS_PRESTADORES = [\n",
    "    'DESCRIPCION PLAN',\n",
    "    'FORMA CONTRATACION',\n",
    "    'NUM ID',\n",
    "    'TIPO ID',\n",
    "    'TIPO PERSONA',\n",
    "    'CODIGO SUCURSAL',\n",
    "    'NOMBRE SUCURSAL',\n",
    "    'CIUDAD',\n",
    "    'DESCRIPCION CIUDAD',\n",
    "    'DEPARTAMENTO',\n",
    "    'DESCRIPCION ESPECIALIDAD',\n",
    "    'ESTADO',\n",
    "    'TIPO CONVENIO',\n",
    "    'COD HABILITACION SUCURSAL',\n",
    "    'HABILITACIÓN SEDE SUCURSAL',\n",
    "    'FECHA INICIO CONVENIO',\n",
    "    'FECHA FIN CONVENIO',\n",
    "    'REGIONAL']"
   ]
  },
  {
   "cell_type": "code",
   "execution_count": null,
   "metadata": {},
   "outputs": [],
   "source": [
    "periodo = input('Ingrese el periodo de actualización (YYYYMM): ')\n",
    "periodo"
   ]
  },
  {
   "cell_type": "code",
   "execution_count": null,
   "metadata": {},
   "outputs": [],
   "source": [
    "ruta_prestadores = filedialog.askopenfilename(title='Seleccione el archivo de prestadores')\n",
    "ruta_prestadores"
   ]
  },
  {
   "cell_type": "code",
   "execution_count": null,
   "metadata": {},
   "outputs": [],
   "source": [
    "carpeta_regionales = pathlib.Path(\n",
    "    r'G:\\.shortcut-targets-by-id\\1wT-pRaNOECz6KC5hndveeLOIGY381o4T\\Alteryx\\Proyectos\\154._Tableros_RIPS\\03.Salidas\\_Tb_Regiones_.csv')"
   ]
  },
  {
   "cell_type": "code",
   "execution_count": null,
   "metadata": {},
   "outputs": [],
   "source": [
    "with zipfile.ZipFile(ruta_prestadores, 'r') as zip_file:\n",
    "     with tempfile.TemporaryDirectory() as temp_dir:\n",
    "        zip_file.extractall(temp_dir)\n",
    "        archivos = pathlib.Path(temp_dir).rglob('*.xlsx')  # Esto es un generador\n",
    "        try:\n",
    "            # Obtenemos el primer archivo encontrado\n",
    "            archivo = next(archivos, None)\n",
    "            if archivo is None:        logging.error(\n",
    "                        f'No se encontró ningún archivo .xlsx en el ZIP')\n",
    "            else:\n",
    "                    logging.info(f'Leyendo archivo {archivo}')\n",
    "                    df_prestadores = pd.read_excel(archivo, sheet_name='E.P.S Sanitas',\n",
    "                                                   skiprows=2, dtype='str', usecols=COLUMNAS_PRESTADORES)\n",
    "        except Exception as e:\n",
    "                logging.error(f'Error al leer el archivo de prestadores: {e}')"
   ]
  },
  {
   "cell_type": "code",
   "execution_count": null,
   "metadata": {},
   "outputs": [],
   "source": [
    "df_regionales = pd.read_csv(carpeta_regionales, sep='|', dtype='str')\n",
    "\n",
    "# Preparacion para cruce de regionales\n",
    "df_regionales['regional_adaptada'] = df_regionales['Regional'].str.replace(\n",
    "        ' ', '_', 1)\n",
    "df_regionales['nombre_region'] = df_regionales['regional_adaptada'].str.split(\n",
    "        pat=' ', n=1).str[1]\n",
    "\n",
    "# Mantener unicos por nombre de regional y regional adaptada\n",
    "df_regionales.drop_duplicates(\n",
    "        subset=['nombre_region', 'regional_adaptada'], inplace=True)"
   ]
  },
  {
   "cell_type": "code",
   "execution_count": null,
   "metadata": {},
   "outputs": [],
   "source": [
    "# Cruce de regionales con prestadores\n",
    "df_prestadores = pd.merge(df_prestadores, df_regionales[[\n",
    "                              'regional_adaptada', 'nombre_region']], left_on='REGIONAL', right_on='nombre_region', how='inner')\n",
    "df_prestadores.drop(columns=['nombre_region', 'REGIONAL'], inplace=True)\n",
    "df_prestadores.rename(\n",
    "        columns={'regional_adaptada': 'REGIONAL'}, inplace=True)"
   ]
  },
  {
   "cell_type": "code",
   "execution_count": null,
   "metadata": {},
   "outputs": [],
   "source": [
    "# Procesamiento prestadores\n",
    "df_prestadores['CODIGO SUCURSAL23'] = df_prestadores['CODIGO SUCURSAL']\n",
    "df_prestadores['AVICENA'] = ''\n",
    "df_prestadores['NIT2'] = df_prestadores['TIPO ID'].str.slice(\n",
    "        0, 1) + df_prestadores['NUM ID']\n",
    "df_prestadores['MUNICIPIO AUTORIZADO'] = ''\n",
    "df_prestadores['COD_HABILITACION'] = df_prestadores['COD HABILITACION SUCURSAL'] + \\\n",
    "df_prestadores['HABILITACIÓN SEDE SUCURSAL']\n"
   ]
  },
  {
   "cell_type": "code",
   "execution_count": null,
   "metadata": {},
   "outputs": [],
   "source": [
    "# Eliminar columnas no necesarias\n",
    "df_prestadores.drop(columns=['HABILITACIÓN SEDE SUCURSAL',\n",
    "                        'COD HABILITACION SUCURSAL', 'TIPO ID'], inplace=True)\n"
   ]
  },
  {
   "cell_type": "code",
   "execution_count": null,
   "metadata": {},
   "outputs": [],
   "source": [
    "# Define el nombre de las columnas\n",
    "column_renames = {\n",
    "        \"FORMA CONTRATACION\": \"RELACION EPS\",\n",
    "        \"NUM ID\": \"NIT\",\n",
    "        \"TIPO PERSONA\": \"TIPO_PERSONA\",\n",
    "        \"CODIGO SUCURSAL\": \"CODIGO SUCURSAL22\",\n",
    "        \"NOMBRE SUCURSAL\": \"PRESTADOR\",\n",
    "        \"CIUDAD\": \"COD_CIUDAD\",\n",
    "        \"DESCRIPCION CIUDAD\": \"CIUDAD\",\n",
    "        \"DESCRIPCION ESPECIALIDAD\": \"GRUPO_SERVICIO\",\n",
    "        \"ESTADO\": \"Estado Actual\",\n",
    "        \"FECHA INICIO CONVENIO\": \"INICIO_CONTRATO\",\n",
    "        \"FECHA FIN CONVENIO\": \"FIN_VIGENCIA\",\n",
    "        \"COD_HABILITACION\": \"CODIGO DE HABILITACION2\",\n",
    "}"
   ]
  },
  {
   "cell_type": "code",
   "execution_count": null,
   "metadata": {},
   "outputs": [],
   "source": [
    "df_prestadores.columns"
   ]
  },
  {
   "cell_type": "code",
   "execution_count": null,
   "metadata": {},
   "outputs": [],
   "source": [
    "engine = conectar_base_oracle()"
   ]
  },
  {
   "cell_type": "code",
   "execution_count": null,
   "metadata": {},
   "outputs": [],
   "source": [
    "print(f'Columnas prestadores: {df_prestadores.columns}')\n",
    "    \n",
    "df_prestadores.rename(columns=column_renames, inplace=True)\n",
    "\n",
    "print(f'Columnas prestadores renombradas: {df_prestadores.columns}')\n",
    "\n",
    "# creacion_tabla_actualizada(\n",
    "#         engine, df_prestadores, NOMBRE_TABLA_PRESTADORES, periodo)"
   ]
  },
  {
   "cell_type": "code",
   "execution_count": null,
   "metadata": {},
   "outputs": [],
   "source": [
    "    \n",
    "# obtener universo prestadores\n",
    "df_universo_prestadores = obtener_datos_oracle(engine, NOMBRE_TABLA_PRESTADORES)\n",
    "\n",
    "df_universo_prestadores"
   ]
  },
  {
   "cell_type": "code",
   "execution_count": null,
   "metadata": {},
   "outputs": [],
   "source": [
    "df_prestadores[df_prestadores['NIT'] == '15242933']"
   ]
  },
  {
   "cell_type": "code",
   "execution_count": null,
   "metadata": {},
   "outputs": [],
   "source": [
    "df_universo_prestadores.loc[(~df_universo_prestadores['nit'].isin(df_prestadores['NIT'])) & (df_universo_prestadores['Estado Actual'] != 'FINALIZADO')].shape"
   ]
  },
  {
   "cell_type": "code",
   "execution_count": null,
   "metadata": {},
   "outputs": [],
   "source": [
    "df_universo_prestadores.columns"
   ]
  },
  {
   "cell_type": "code",
   "execution_count": null,
   "metadata": {},
   "outputs": [],
   "source": [
    "# renombrar columnas a lower case cuando la columna no tiene espacios\n",
    "for col in df_prestadores.columns:\n",
    "    if ' ' not in col:\n",
    "        df_prestadores.rename(columns={col: col.lower()}, inplace=True)\n",
    "df_prestadores.columns"
   ]
  },
  {
   "cell_type": "code",
   "execution_count": null,
   "metadata": {},
   "outputs": [],
   "source": [
    "df_universo_prestadores"
   ]
  },
  {
   "cell_type": "code",
   "execution_count": null,
   "metadata": {},
   "outputs": [],
   "source": [
    "# poner marca df_universo_prestadores['Estado Actual'] = 'FINALIZADO' si no se encuentra en df_prestadores\n",
    "df_universo_prestadores.loc[~df_universo_prestadores['nit'].isin(df_prestadores['nit']), 'Estado Actual'] = 'FINALIZADO'"
   ]
  },
  {
   "cell_type": "code",
   "execution_count": null,
   "metadata": {},
   "outputs": [],
   "source": [
    "df_universo_prestadores['Estado Actual'].value_counts()"
   ]
  },
  {
   "cell_type": "code",
   "execution_count": null,
   "metadata": {},
   "outputs": [],
   "source": [
    "df_universo_prestadores_finalizados = df_universo_prestadores.loc[df_universo_prestadores['Estado Actual'] == 'FINALIZADO']\n",
    "df_universo_prestadores_finalizados.shape"
   ]
  },
  {
   "cell_type": "code",
   "execution_count": null,
   "metadata": {},
   "outputs": [],
   "source": [
    "df_universo_prestadores_completos = pd.concat([df_prestadores, df_universo_prestadores_finalizados], ignore_index=True)\n",
    "df_universo_prestadores_completos.head()"
   ]
  },
  {
   "cell_type": "code",
   "execution_count": null,
   "metadata": {},
   "outputs": [],
   "source": [
    "df_universo_prestadores_completos.shape"
   ]
  },
  {
   "cell_type": "code",
   "execution_count": null,
   "metadata": {},
   "outputs": [],
   "source": [
    "df_universo_prestadores_completos[df_universo_prestadores_completos['CODIGO DE HABILITACION2'] == '730010242403']"
   ]
  },
  {
   "cell_type": "code",
   "execution_count": null,
   "metadata": {},
   "outputs": [],
   "source": [
    "df_universo_prestadores_completos.drop_duplicates(inplace=True)"
   ]
  },
  {
   "cell_type": "code",
   "execution_count": null,
   "metadata": {},
   "outputs": [],
   "source": [
    "df_universo_prestadores_completos['tipo_persona'] = df_universo_prestadores_completos['tipo_persona'].str.upper()\n",
    "df_universo_prestadores_completos['tipo_persona'].value_counts()"
   ]
  },
  {
   "cell_type": "code",
   "execution_count": null,
   "metadata": {},
   "outputs": [],
   "source": [
    "df_universo_prestadores_completos[df_universo_prestadores_completos.duplicated()]"
   ]
  },
  {
   "cell_type": "code",
   "execution_count": null,
   "metadata": {},
   "outputs": [],
   "source": [
    "actualizar_datos_oracle(engine, df_universo_prestadores_completos, NOMBRE_TABLA_PRESTADORES)"
   ]
  },
  {
   "cell_type": "code",
   "execution_count": null,
   "metadata": {},
   "outputs": [],
   "source": [
    "NOMBRE_TABLA_PRESTADORES"
   ]
  }
 ],
 "metadata": {
  "kernelspec": {
   "display_name": "actualizacion_parametricas_upc_py3.11",
   "language": "python",
   "name": "python3"
  },
  "language_info": {
   "codemirror_mode": {
    "name": "ipython",
    "version": 3
   },
   "file_extension": ".py",
   "mimetype": "text/x-python",
   "name": "python",
   "nbconvert_exporter": "python",
   "pygments_lexer": "ipython3",
   "version": "3.12.4"
  }
 },
 "nbformat": 4,
 "nbformat_minor": 2
}
