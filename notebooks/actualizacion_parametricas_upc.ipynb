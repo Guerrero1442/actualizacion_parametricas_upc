{
 "cells": [
  {
   "cell_type": "code",
   "execution_count": 13,
   "metadata": {},
   "outputs": [],
   "source": [
    "import pandas as pd\n",
    "from bs4 import BeautifulSoup\n",
    "import requests\n",
    "from pathlib import Path\n",
    "# Coneccion base de datos\n",
    "from sqlalchemy import create_engine\n",
    "import cx_Oracle"
   ]
  },
  {
   "cell_type": "code",
   "execution_count": 14,
   "metadata": {},
   "outputs": [],
   "source": [
    "# Conectar con base de datos\n",
    "import configparser\n",
    "\n",
    "config = configparser.ConfigParser()\n",
    "\n",
    "config.read('../config.ini')\n",
    "\n",
    "# Obtener los datos de conexión a la base de datos\n",
    "host = config['oracle']['host']\n",
    "port = config['oracle']['port']\n",
    "sid = config['oracle']['service_name']\n",
    "user = config['oracle']['user']\n",
    "password = config['oracle']['password']\n",
    "\n",
    "# Configuración de la base de datos\n",
    "dsn = cx_Oracle.makedsn(host, port, sid)\n",
    "\n",
    "engine = create_engine(f'oracle+cx_oracle://{user}:{password}@{dsn}')"
   ]
  },
  {
   "cell_type": "code",
   "execution_count": 7,
   "metadata": {},
   "outputs": [
    {
     "name": "stderr",
     "output_type": "stream",
     "text": [
      "c:\\Users\\camil\\anaconda3\\envs\\actualizacion_parametricas_upc_py3.11\\Lib\\site-packages\\urllib3\\connectionpool.py:1099: InsecureRequestWarning: Unverified HTTPS request is being made to host 'www.minsalud.gov.co'. Adding certificate verification is strongly advised. See: https://urllib3.readthedocs.io/en/latest/advanced-usage.html#tls-warnings\n",
      "  warnings.warn(\n"
     ]
    },
    {
     "name": "stdout",
     "output_type": "stream",
     "text": [
      "Descargando https://www.minsalud.gov.co/sites/rid/Lists/BibliotecaDigital/RIDE/VP/RBC/Vigencia%202024.zip a ../downloads\\Vigencia%202024.zip\n"
     ]
    },
    {
     "name": "stderr",
     "output_type": "stream",
     "text": [
      "c:\\Users\\camil\\anaconda3\\envs\\actualizacion_parametricas_upc_py3.11\\Lib\\site-packages\\urllib3\\connectionpool.py:1099: InsecureRequestWarning: Unverified HTTPS request is being made to host 'www.minsalud.gov.co'. Adding certificate verification is strongly advised. See: https://urllib3.readthedocs.io/en/latest/advanced-usage.html#tls-warnings\n",
      "  warnings.warn(\n"
     ]
    },
    {
     "name": "stdout",
     "output_type": "stream",
     "text": [
      "Descarga completada.\n"
     ]
    }
   ],
   "source": [
    "import requests\n",
    "from bs4 import BeautifulSoup\n",
    "import os\n",
    "\n",
    "# URL de la página web\n",
    "url = \"https://www.minsalud.gov.co/salud/POS/Paginas/unidad-de-pago-por-capitacion-upc.aspx\"\n",
    "\n",
    "# Obtener el contenido de la página web con verificación SSL deshabilitada\n",
    "response = requests.get(url, verify=False)\n",
    "html_content = response.content\n",
    "\n",
    "# Analizar el contenido HTML\n",
    "soup = BeautifulSoup(html_content, 'html.parser')\n",
    "\n",
    "# Encontrar todos los enlaces\n",
    "links = soup.find_all('a')\n",
    "\n",
    "# Directorio para guardar los archivos descargados\n",
    "download_dir = '../downloads'\n",
    "os.makedirs(download_dir, exist_ok=True)\n",
    "\n",
    "# Descargar los archivos ZIP\n",
    "for link in links:\n",
    "    href = link.get('href')\n",
    "    if href and href.endswith('Vigencia%202024.zip'):\n",
    "        file_url = href if href.startswith('http') else f\"https://www.minsalud.gov.co{href}\"  # Ajusta si es necesario\n",
    "        file_name = os.path.join(download_dir, os.path.basename(href))\n",
    "        print(f\"Descargando {file_url} a {file_name}\")\n",
    "        zip_response = requests.get(file_url, verify=False)\n",
    "        with open(file_name, 'wb') as file:\n",
    "            file.write(zip_response.content)\n",
    "\n",
    "print(\"Descarga completada.\")\n"
   ]
  },
  {
   "cell_type": "code",
   "execution_count": 8,
   "metadata": {},
   "outputs": [],
   "source": [
    "# Abrir zip y extraer archivos\n",
    "import zipfile\n",
    "\n",
    "def extract_zip(zip_file, extract_dir):\n",
    "    with zipfile.ZipFile(zip_file, 'r') as zip_ref:\n",
    "        zip_ref.extractall(extract_dir)\n",
    "\n",
    "\n",
    "extract_zip('../downloads/Vigencia%202024.zip', '../extracted_files')        "
   ]
  },
  {
   "cell_type": "markdown",
   "metadata": {},
   "source": [
    "# Actualizacion parametrica CIE10"
   ]
  },
  {
   "cell_type": "code",
   "execution_count": 2,
   "metadata": {},
   "outputs": [],
   "source": [
    "ruta_cie10 = Path(r\"D:\\Keralty scripts\\Automatizaciones-python\\actualizacion_parametricas_upc\\extracted_files\\Vigencia 2024\\2024_TR_CIE10_05_IMG_WEB_26Mar2024.xlsb\")\n",
    "df_cie10 = pd.read_excel(ruta_cie10, skiprows=4, engine='pyxlsb')"
   ]
  },
  {
   "cell_type": "code",
   "execution_count": 3,
   "metadata": {},
   "outputs": [
    {
     "data": {
      "text/html": [
       "<div>\n",
       "<style scoped>\n",
       "    .dataframe tbody tr th:only-of-type {\n",
       "        vertical-align: middle;\n",
       "    }\n",
       "\n",
       "    .dataframe tbody tr th {\n",
       "        vertical-align: top;\n",
       "    }\n",
       "\n",
       "    .dataframe thead th {\n",
       "        text-align: right;\n",
       "    }\n",
       "</style>\n",
       "<table border=\"1\" class=\"dataframe\">\n",
       "  <thead>\n",
       "    <tr style=\"text-align: right;\">\n",
       "      <th></th>\n",
       "      <th>VIGENCIA</th>\n",
       "      <th>CODIGO</th>\n",
       "      <th>DESCRIPCION</th>\n",
       "      <th>SEXO</th>\n",
       "      <th>EDAD_LIM_INF</th>\n",
       "      <th>EDAD_LIM_SUP</th>\n",
       "    </tr>\n",
       "  </thead>\n",
       "  <tbody>\n",
       "    <tr>\n",
       "      <th>0</th>\n",
       "      <td>2024</td>\n",
       "      <td>A000</td>\n",
       "      <td>COLERA DEBIDO A VIBRIO CHOLERAE 01, BIOTIPO CH...</td>\n",
       "      <td>A</td>\n",
       "      <td>0</td>\n",
       "      <td>120</td>\n",
       "    </tr>\n",
       "    <tr>\n",
       "      <th>1</th>\n",
       "      <td>2024</td>\n",
       "      <td>A001</td>\n",
       "      <td>COLERA DEBIDO A VIBRIO CHOLERAE 01, BIOTIPO EL...</td>\n",
       "      <td>A</td>\n",
       "      <td>0</td>\n",
       "      <td>120</td>\n",
       "    </tr>\n",
       "    <tr>\n",
       "      <th>2</th>\n",
       "      <td>2024</td>\n",
       "      <td>A009</td>\n",
       "      <td>COLERA, NO ESPECIFICADO</td>\n",
       "      <td>A</td>\n",
       "      <td>0</td>\n",
       "      <td>120</td>\n",
       "    </tr>\n",
       "    <tr>\n",
       "      <th>3</th>\n",
       "      <td>2024</td>\n",
       "      <td>A010</td>\n",
       "      <td>FIEBRE TIFOIDEA</td>\n",
       "      <td>A</td>\n",
       "      <td>0</td>\n",
       "      <td>120</td>\n",
       "    </tr>\n",
       "    <tr>\n",
       "      <th>4</th>\n",
       "      <td>2024</td>\n",
       "      <td>A011</td>\n",
       "      <td>FIEBRE PARATIFOIDEA A</td>\n",
       "      <td>A</td>\n",
       "      <td>0</td>\n",
       "      <td>120</td>\n",
       "    </tr>\n",
       "  </tbody>\n",
       "</table>\n",
       "</div>"
      ],
      "text/plain": [
       "   VIGENCIA CODIGO                                        DESCRIPCION SEXO  \\\n",
       "0      2024   A000  COLERA DEBIDO A VIBRIO CHOLERAE 01, BIOTIPO CH...    A   \n",
       "1      2024   A001  COLERA DEBIDO A VIBRIO CHOLERAE 01, BIOTIPO EL...    A   \n",
       "2      2024   A009                            COLERA, NO ESPECIFICADO    A   \n",
       "3      2024   A010                                    FIEBRE TIFOIDEA    A   \n",
       "4      2024   A011                              FIEBRE PARATIFOIDEA A    A   \n",
       "\n",
       "   EDAD_LIM_INF  EDAD_LIM_SUP  \n",
       "0             0           120  \n",
       "1             0           120  \n",
       "2             0           120  \n",
       "3             0           120  \n",
       "4             0           120  "
      ]
     },
     "execution_count": 3,
     "metadata": {},
     "output_type": "execute_result"
    }
   ],
   "source": [
    "df_cie10.head()"
   ]
  },
  {
   "cell_type": "code",
   "execution_count": 5,
   "metadata": {},
   "outputs": [
    {
     "data": {
      "text/plain": [
       "(12634, 6)"
      ]
     },
     "execution_count": 5,
     "metadata": {},
     "output_type": "execute_result"
    }
   ],
   "source": [
    "df_cie10.shape"
   ]
  },
  {
   "cell_type": "code",
   "execution_count": 8,
   "metadata": {},
   "outputs": [
    {
     "data": {
      "text/html": [
       "<div>\n",
       "<style scoped>\n",
       "    .dataframe tbody tr th:only-of-type {\n",
       "        vertical-align: middle;\n",
       "    }\n",
       "\n",
       "    .dataframe tbody tr th {\n",
       "        vertical-align: top;\n",
       "    }\n",
       "\n",
       "    .dataframe thead th {\n",
       "        text-align: right;\n",
       "    }\n",
       "</style>\n",
       "<table border=\"1\" class=\"dataframe\">\n",
       "  <thead>\n",
       "    <tr style=\"text-align: right;\">\n",
       "      <th></th>\n",
       "      <th>VIGENCIA</th>\n",
       "      <th>CODIGO</th>\n",
       "      <th>DESCRIPCION</th>\n",
       "      <th>SEXO</th>\n",
       "      <th>EDAD_LIM_INF</th>\n",
       "      <th>EDAD_LIM_SUP</th>\n",
       "    </tr>\n",
       "  </thead>\n",
       "  <tbody>\n",
       "  </tbody>\n",
       "</table>\n",
       "</div>"
      ],
      "text/plain": [
       "Empty DataFrame\n",
       "Columns: [VIGENCIA, CODIGO, DESCRIPCION, SEXO, EDAD_LIM_INF, EDAD_LIM_SUP]\n",
       "Index: []"
      ]
     },
     "execution_count": 8,
     "metadata": {},
     "output_type": "execute_result"
    }
   ],
   "source": [
    "# Revisar si hay unicos\n",
    "df_cie10.loc[df_cie10.duplicated(subset='CODIGO')]"
   ]
  },
  {
   "cell_type": "markdown",
   "metadata": {},
   "source": [
    "## Estructura tabla TBL_SUF_CIE10_2024\n",
    "\n",
    "| Columna                                | Tipo         |\n",
    "|----------------------------------------|--------------|\n",
    "| Tabla                                  | VARCHAR2(255)|\n",
    "| CAPÍTULO                              | VARCHAR2(255)|\n",
    "| NOMBRE CAPÍTULO               | VARCHAR2(255)|\n",
    "| CIE10                                  | VARCHAR2(255)|\n",
    "| DESCRIPCIÓN CÓDIGOS DE CUATRO CARACTERES | VARCHAR2(255)|\n",
    "| CODIGO_ CIE-10_ TRES_CARACTERES | VARCHAR2(255)|\n",
    "| DESCRIPCION_CODIGOS_TRES_CARACTERES | VARCHAR2(255)|\n",
    "| SEXO                                   | VARCHAR2(255)|\n",
    "| LIMITE_INFERIOR                 | VARCHAR2(255)|\n",
    "| LIMITE_SUPERIOR                | VARCHAR2(255)|\n",
    "| GRUPO_ MORTALIDAD_LISTA_ 6-607 | VARCHAR2(255)|\n",
    "| GRUPO_MORTALIDAD_LISTA_105 | VARCHAR2(255)|\n",
    "| VALOR_LIM_INF                      | VARCHAR2(255)|\n",
    "| VALOR_LIM_SUP                     | VARCHAR2(255)|\n",
    "| TIPO_LIMI_INFERIOR              | VARCHAR2(20)|\n",
    "| TIPO_LIMI_SUPERIOR             | VARCHAR2(20)|"
   ]
  },
  {
   "cell_type": "code",
   "execution_count": 10,
   "metadata": {},
   "outputs": [],
   "source": [
    "\n",
    "df_cie10.rename(columns={'VIGENCIA': 'Tabla', 'CODIGO':'CIE10', 'DESCRIPCION': 'DESCRIPCIÓN CÓDIGOS DE CUATRO CARACTERES', 'EDAD_LIM_INF': 'VALOR_LIM_INF','EDAD_LIM_SUP': 'VALOR_LIM_SUP'}, inplace=True)"
   ]
  },
  {
   "cell_type": "code",
   "execution_count": 12,
   "metadata": {},
   "outputs": [
    {
     "data": {
      "text/plain": [
       "['Tabla',\n",
       " 'CIE10',\n",
       " 'DESCRIPCIÓN CÓDIGOS DE CUATRO CARACTERES',\n",
       " 'SEXO',\n",
       " 'VALOR_LIM_INF',\n",
       " 'VALOR_LIM_SUP']"
      ]
     },
     "execution_count": 12,
     "metadata": {},
     "output_type": "execute_result"
    }
   ],
   "source": [
    "df_cie10.columns.to_list()"
   ]
  },
  {
   "cell_type": "code",
   "execution_count": 15,
   "metadata": {},
   "outputs": [
    {
     "data": {
      "text/plain": [
       "12634"
      ]
     },
     "execution_count": 15,
     "metadata": {},
     "output_type": "execute_result"
    }
   ],
   "source": [
    "# Copiar estructura de la tabla EPSS05LIQUIDACION_202405 para crear la tabla EPSS05LIQUIDACION_202406\n",
    "\n",
    "with engine.connect() as connection:\n",
    "    \n",
    "    # Crear cursor\n",
    "    cursor = connection.connection.cursor()\n",
    "    \n",
    "        # Borra tabla si existe\n",
    "    try:\n",
    "        cursor.execute(f\"\"\"\n",
    "            TRUNCATE TABLE TBL_SUF_CIE10_2024\n",
    "        \"\"\")    \n",
    "    except Exception as e:\n",
    "        print(e)\n",
    "    \n",
    "\n",
    "# Hacer la insercion por chunk df_liquidados\n",
    "df_cie10.to_sql('tbl_suf_cie10_2024', con=engine, if_exists='append', index=False)"
   ]
  },
  {
   "cell_type": "markdown",
   "metadata": {},
   "source": [
    "# Actualizacion REPS"
   ]
  },
  {
   "cell_type": "code",
   "execution_count": 35,
   "metadata": {},
   "outputs": [],
   "source": [
    "ruta_reps = Path(r\"D:\\Keralty scripts\\Automatizaciones-python\\actualizacion_parametricas_upc\\extracted_files\\Vigencia 2024\\2024_REPS_01-2024.xlsb\")\n",
    "df_reps = pd.read_excel(ruta_reps, skiprows=4, engine='pyxlsb')"
   ]
  },
  {
   "cell_type": "code",
   "execution_count": 36,
   "metadata": {},
   "outputs": [
    {
     "data": {
      "text/html": [
       "<div>\n",
       "<style scoped>\n",
       "    .dataframe tbody tr th:only-of-type {\n",
       "        vertical-align: middle;\n",
       "    }\n",
       "\n",
       "    .dataframe tbody tr th {\n",
       "        vertical-align: top;\n",
       "    }\n",
       "\n",
       "    .dataframe thead th {\n",
       "        text-align: right;\n",
       "    }\n",
       "</style>\n",
       "<table border=\"1\" class=\"dataframe\">\n",
       "  <thead>\n",
       "    <tr style=\"text-align: right;\">\n",
       "      <th></th>\n",
       "      <th>AÑO_VIGENCIA</th>\n",
       "      <th>CÓDIGO HABILITACION</th>\n",
       "      <th>NOMBRE PRESTADOR</th>\n",
       "      <th>NIT</th>\n",
       "    </tr>\n",
       "  </thead>\n",
       "  <tbody>\n",
       "    <tr>\n",
       "      <th>0</th>\n",
       "      <td>2024</td>\n",
       "      <td>110013833401</td>\n",
       "      <td>KAREN LORENA FARFAN BARAJAS</td>\n",
       "      <td>1000062006</td>\n",
       "    </tr>\n",
       "    <tr>\n",
       "      <th>1</th>\n",
       "      <td>2024</td>\n",
       "      <td>110013833402</td>\n",
       "      <td>KAREN LORENA FARFAN BARAJAS</td>\n",
       "      <td>1000062006</td>\n",
       "    </tr>\n",
       "    <tr>\n",
       "      <th>2</th>\n",
       "      <td>2024</td>\n",
       "      <td>110013849601</td>\n",
       "      <td>MARIA ALEJANDRA LEON SARMIENTO</td>\n",
       "      <td>1000063184</td>\n",
       "    </tr>\n",
       "    <tr>\n",
       "      <th>3</th>\n",
       "      <td>2024</td>\n",
       "      <td>660010022201</td>\n",
       "      <td>Francisco Javier Estrada Chavez</td>\n",
       "      <td>10000753</td>\n",
       "    </tr>\n",
       "    <tr>\n",
       "      <th>4</th>\n",
       "      <td>2024</td>\n",
       "      <td>660010092901</td>\n",
       "      <td>LUIS ANGEL SUAREZ MEJIA</td>\n",
       "      <td>10000837</td>\n",
       "    </tr>\n",
       "    <tr>\n",
       "      <th>...</th>\n",
       "      <td>...</td>\n",
       "      <td>...</td>\n",
       "      <td>...</td>\n",
       "      <td>...</td>\n",
       "    </tr>\n",
       "    <tr>\n",
       "      <th>76353</th>\n",
       "      <td>2024</td>\n",
       "      <td>050011864004</td>\n",
       "      <td>MAURICIO LONDO¥O LONDO¥O</td>\n",
       "      <td>9976194</td>\n",
       "    </tr>\n",
       "    <tr>\n",
       "      <th>76354</th>\n",
       "      <td>2024</td>\n",
       "      <td>050011864005</td>\n",
       "      <td>MAURICIO LONDO¥O LONDO¥O</td>\n",
       "      <td>9976194</td>\n",
       "    </tr>\n",
       "    <tr>\n",
       "      <th>76355</th>\n",
       "      <td>2024</td>\n",
       "      <td>520010215701</td>\n",
       "      <td>FREDDY ISRAEL PANTOJA CHAMORRO</td>\n",
       "      <td>9976212</td>\n",
       "    </tr>\n",
       "    <tr>\n",
       "      <th>76356</th>\n",
       "      <td>2024</td>\n",
       "      <td>170010285301</td>\n",
       "      <td>SANDRO PARRA SOTO</td>\n",
       "      <td>9976701</td>\n",
       "    </tr>\n",
       "    <tr>\n",
       "      <th>76357</th>\n",
       "      <td>2024</td>\n",
       "      <td>664560264201</td>\n",
       "      <td>ADALBERTO DE JESUS MOLINA FLOREZ</td>\n",
       "      <td>9994842</td>\n",
       "    </tr>\n",
       "  </tbody>\n",
       "</table>\n",
       "<p>76358 rows × 4 columns</p>\n",
       "</div>"
      ],
      "text/plain": [
       "       AÑO_VIGENCIA CÓDIGO HABILITACION                  NOMBRE PRESTADOR  \\\n",
       "0              2024        110013833401       KAREN LORENA FARFAN BARAJAS   \n",
       "1              2024        110013833402       KAREN LORENA FARFAN BARAJAS   \n",
       "2              2024        110013849601    MARIA ALEJANDRA LEON SARMIENTO   \n",
       "3              2024        660010022201   Francisco Javier Estrada Chavez   \n",
       "4              2024        660010092901           LUIS ANGEL SUAREZ MEJIA   \n",
       "...             ...                 ...                               ...   \n",
       "76353          2024        050011864004          MAURICIO LONDO¥O LONDO¥O   \n",
       "76354          2024        050011864005          MAURICIO LONDO¥O LONDO¥O   \n",
       "76355          2024        520010215701    FREDDY ISRAEL PANTOJA CHAMORRO   \n",
       "76356          2024        170010285301                 SANDRO PARRA SOTO   \n",
       "76357          2024        664560264201  ADALBERTO DE JESUS MOLINA FLOREZ   \n",
       "\n",
       "              NIT  \n",
       "0      1000062006  \n",
       "1      1000062006  \n",
       "2      1000063184  \n",
       "3        10000753  \n",
       "4        10000837  \n",
       "...           ...  \n",
       "76353     9976194  \n",
       "76354     9976194  \n",
       "76355     9976212  \n",
       "76356     9976701  \n",
       "76357     9994842  \n",
       "\n",
       "[76358 rows x 4 columns]"
      ]
     },
     "execution_count": 36,
     "metadata": {},
     "output_type": "execute_result"
    }
   ],
   "source": [
    "df_reps"
   ]
  },
  {
   "cell_type": "code",
   "execution_count": 37,
   "metadata": {},
   "outputs": [
    {
     "data": {
      "text/plain": [
       "(76358, 4)"
      ]
     },
     "execution_count": 37,
     "metadata": {},
     "output_type": "execute_result"
    }
   ],
   "source": [
    "df_reps.shape"
   ]
  },
  {
   "cell_type": "code",
   "execution_count": 38,
   "metadata": {},
   "outputs": [
    {
     "data": {
      "text/html": [
       "<div>\n",
       "<style scoped>\n",
       "    .dataframe tbody tr th:only-of-type {\n",
       "        vertical-align: middle;\n",
       "    }\n",
       "\n",
       "    .dataframe tbody tr th {\n",
       "        vertical-align: top;\n",
       "    }\n",
       "\n",
       "    .dataframe thead th {\n",
       "        text-align: right;\n",
       "    }\n",
       "</style>\n",
       "<table border=\"1\" class=\"dataframe\">\n",
       "  <thead>\n",
       "    <tr style=\"text-align: right;\">\n",
       "      <th></th>\n",
       "      <th>AÑO_VIGENCIA</th>\n",
       "      <th>CÓDIGO HABILITACION</th>\n",
       "      <th>NOMBRE PRESTADOR</th>\n",
       "      <th>NIT</th>\n",
       "    </tr>\n",
       "  </thead>\n",
       "  <tbody>\n",
       "  </tbody>\n",
       "</table>\n",
       "</div>"
      ],
      "text/plain": [
       "Empty DataFrame\n",
       "Columns: [AÑO_VIGENCIA, CÓDIGO HABILITACION, NOMBRE PRESTADOR, NIT]\n",
       "Index: []"
      ]
     },
     "execution_count": 38,
     "metadata": {},
     "output_type": "execute_result"
    }
   ],
   "source": [
    "df_reps.loc[df_reps.duplicated(subset='CÓDIGO HABILITACION')]"
   ]
  },
  {
   "cell_type": "markdown",
   "metadata": {},
   "source": [
    "## Tabla tbl_suf_reps_2024\n",
    "\n",
    "| Columna        | Tipo         |\n",
    "|----------------|--------------|\n",
    "| COD_PRESTADOR  | VARCHAR2(255)|\n",
    "| NOM_PRESTADOR  | VARCHAR2(255)|\n",
    "| NIT            | VARCHAR2(255)|"
   ]
  },
  {
   "cell_type": "code",
   "execution_count": 39,
   "metadata": {},
   "outputs": [
    {
     "data": {
      "text/plain": [
       "Index(['AÑO_VIGENCIA', 'COD_PRESTADOR', 'NOM_PRESTADOR', 'NIT'], dtype='object')"
      ]
     },
     "execution_count": 39,
     "metadata": {},
     "output_type": "execute_result"
    }
   ],
   "source": [
    "df_reps.rename(columns={'CÓDIGO HABILITACION':'COD_PRESTADOR','NOMBRE PRESTADOR':'NOM_PRESTADOR','NIT':'NIT'},inplace=True)\n",
    "df_reps.columns"
   ]
  },
  {
   "cell_type": "code",
   "execution_count": 42,
   "metadata": {},
   "outputs": [],
   "source": [
    "df_reps.drop(columns=['AÑO_VIGENCIA'], inplace=True)"
   ]
  },
  {
   "cell_type": "code",
   "execution_count": 43,
   "metadata": {},
   "outputs": [
    {
     "data": {
      "text/plain": [
       "76358"
      ]
     },
     "execution_count": 43,
     "metadata": {},
     "output_type": "execute_result"
    }
   ],
   "source": [
    "\n",
    "with engine.connect() as connection:\n",
    "    \n",
    "    # Crear cursor\n",
    "    cursor = connection.connection.cursor()\n",
    "    \n",
    "        # Borra tabla si existe\n",
    "    try:\n",
    "        cursor.execute(f\"\"\"\n",
    "            TRUNCATE TABLE tbl_suf_reps_2024\n",
    "        \"\"\")    \n",
    "    except Exception as e:\n",
    "        print(e)\n",
    "    \n",
    "\n",
    "# Hacer la insercion por chunk df_liquidados\n",
    "df_reps.to_sql('tbl_suf_reps_2024', con=engine, if_exists='append', index=False)"
   ]
  },
  {
   "cell_type": "markdown",
   "metadata": {},
   "source": [
    "# Actualizacion CUPS"
   ]
  },
  {
   "cell_type": "code",
   "execution_count": 47,
   "metadata": {},
   "outputs": [],
   "source": [
    "ruta_cups = Path(r\"D:\\Keralty scripts\\Automatizaciones-python\\actualizacion_parametricas_upc\\extracted_files\\Vigencia 2024\\2024_TR_CUPS_06_COBERTURA_Res2366_WM_14May2024.xlsb\")\n",
    "df_cups = pd.read_excel(ruta_cups, skiprows=4, engine='pyxlsb')"
   ]
  },
  {
   "cell_type": "code",
   "execution_count": 48,
   "metadata": {},
   "outputs": [
    {
     "data": {
      "text/html": [
       "<div>\n",
       "<style scoped>\n",
       "    .dataframe tbody tr th:only-of-type {\n",
       "        vertical-align: middle;\n",
       "    }\n",
       "\n",
       "    .dataframe tbody tr th {\n",
       "        vertical-align: top;\n",
       "    }\n",
       "\n",
       "    .dataframe thead th {\n",
       "        text-align: right;\n",
       "    }\n",
       "</style>\n",
       "<table border=\"1\" class=\"dataframe\">\n",
       "  <thead>\n",
       "    <tr style=\"text-align: right;\">\n",
       "      <th></th>\n",
       "      <th>AÑO_VIGENCIA</th>\n",
       "      <th>CODIGO</th>\n",
       "      <th>DESCRIPCION</th>\n",
       "      <th>SEXO</th>\n",
       "      <th>AMBITO</th>\n",
       "      <th>ESTANCIA</th>\n",
       "      <th>COBERTURA</th>\n",
       "      <th>DUPLICADO</th>\n",
       "      <th>VIDA</th>\n",
       "      <th>DX_RELACIONADO</th>\n",
       "      <th></th>\n",
       "    </tr>\n",
       "  </thead>\n",
       "  <tbody>\n",
       "    <tr>\n",
       "      <th>0</th>\n",
       "      <td>2024</td>\n",
       "      <td>010101</td>\n",
       "      <td>PUNCION CISTERNAL, VIA LATERAL</td>\n",
       "      <td>Z</td>\n",
       "      <td>Z</td>\n",
       "      <td>Z</td>\n",
       "      <td>PBS</td>\n",
       "      <td>D</td>\n",
       "      <td>Z</td>\n",
       "      <td>NaN</td>\n",
       "      <td>NaN</td>\n",
       "    </tr>\n",
       "    <tr>\n",
       "      <th>1</th>\n",
       "      <td>2024</td>\n",
       "      <td>010102</td>\n",
       "      <td>PUNCION CISTERNAL, VIA MEDIAL</td>\n",
       "      <td>Z</td>\n",
       "      <td>Z</td>\n",
       "      <td>Z</td>\n",
       "      <td>PBS</td>\n",
       "      <td>D</td>\n",
       "      <td>Z</td>\n",
       "      <td>NaN</td>\n",
       "      <td>NaN</td>\n",
       "    </tr>\n",
       "    <tr>\n",
       "      <th>2</th>\n",
       "      <td>2024</td>\n",
       "      <td>010103</td>\n",
       "      <td>PUNCION CISTERNAL</td>\n",
       "      <td>Z</td>\n",
       "      <td>Z</td>\n",
       "      <td>Z</td>\n",
       "      <td>PBS</td>\n",
       "      <td>Z</td>\n",
       "      <td>Z</td>\n",
       "      <td>NaN</td>\n",
       "      <td>NaN</td>\n",
       "    </tr>\n",
       "    <tr>\n",
       "      <th>3</th>\n",
       "      <td>2024</td>\n",
       "      <td>010201</td>\n",
       "      <td>PUNCION (ASPIRACION DE LIQUIDO) VENTRICULAR A ...</td>\n",
       "      <td>Z</td>\n",
       "      <td>Z</td>\n",
       "      <td>Z</td>\n",
       "      <td>PBS</td>\n",
       "      <td>D</td>\n",
       "      <td>Z</td>\n",
       "      <td>NaN</td>\n",
       "      <td>NaN</td>\n",
       "    </tr>\n",
       "    <tr>\n",
       "      <th>4</th>\n",
       "      <td>2024</td>\n",
       "      <td>010202</td>\n",
       "      <td>PUNCION (ASPIRACION DE LIQUIDO) VENTRICULAR PO...</td>\n",
       "      <td>Z</td>\n",
       "      <td>Z</td>\n",
       "      <td>Z</td>\n",
       "      <td>PBS</td>\n",
       "      <td>D</td>\n",
       "      <td>Z</td>\n",
       "      <td>NaN</td>\n",
       "      <td>NaN</td>\n",
       "    </tr>\n",
       "  </tbody>\n",
       "</table>\n",
       "</div>"
      ],
      "text/plain": [
       "   AÑO_VIGENCIA  CODIGO                                        DESCRIPCION  \\\n",
       "0          2024  010101                     PUNCION CISTERNAL, VIA LATERAL   \n",
       "1          2024  010102                      PUNCION CISTERNAL, VIA MEDIAL   \n",
       "2          2024  010103                                  PUNCION CISTERNAL   \n",
       "3          2024  010201  PUNCION (ASPIRACION DE LIQUIDO) VENTRICULAR A ...   \n",
       "4          2024  010202  PUNCION (ASPIRACION DE LIQUIDO) VENTRICULAR PO...   \n",
       "\n",
       "  SEXO AMBITO ESTANCIA COBERTURA DUPLICADO VIDA DX_RELACIONADO      \n",
       "0    Z      Z        Z       PBS         D    Z            NaN NaN  \n",
       "1    Z      Z        Z       PBS         D    Z            NaN NaN  \n",
       "2    Z      Z        Z       PBS         Z    Z            NaN NaN  \n",
       "3    Z      Z        Z       PBS         D    Z            NaN NaN  \n",
       "4    Z      Z        Z       PBS         D    Z            NaN NaN  "
      ]
     },
     "execution_count": 48,
     "metadata": {},
     "output_type": "execute_result"
    }
   ],
   "source": [
    "df_cups.head()"
   ]
  },
  {
   "cell_type": "code",
   "execution_count": 49,
   "metadata": {},
   "outputs": [
    {
     "data": {
      "text/plain": [
       "(9991, 11)"
      ]
     },
     "execution_count": 49,
     "metadata": {},
     "output_type": "execute_result"
    }
   ],
   "source": [
    "df_cups.shape"
   ]
  },
  {
   "cell_type": "code",
   "execution_count": 50,
   "metadata": {},
   "outputs": [
    {
     "data": {
      "text/html": [
       "<div>\n",
       "<style scoped>\n",
       "    .dataframe tbody tr th:only-of-type {\n",
       "        vertical-align: middle;\n",
       "    }\n",
       "\n",
       "    .dataframe tbody tr th {\n",
       "        vertical-align: top;\n",
       "    }\n",
       "\n",
       "    .dataframe thead th {\n",
       "        text-align: right;\n",
       "    }\n",
       "</style>\n",
       "<table border=\"1\" class=\"dataframe\">\n",
       "  <thead>\n",
       "    <tr style=\"text-align: right;\">\n",
       "      <th></th>\n",
       "      <th>AÑO_VIGENCIA</th>\n",
       "      <th>CODIGO</th>\n",
       "      <th>DESCRIPCION</th>\n",
       "      <th>SEXO</th>\n",
       "      <th>AMBITO</th>\n",
       "      <th>ESTANCIA</th>\n",
       "      <th>COBERTURA</th>\n",
       "      <th>DUPLICADO</th>\n",
       "      <th>VIDA</th>\n",
       "      <th>DX_RELACIONADO</th>\n",
       "      <th></th>\n",
       "    </tr>\n",
       "  </thead>\n",
       "  <tbody>\n",
       "  </tbody>\n",
       "</table>\n",
       "</div>"
      ],
      "text/plain": [
       "Empty DataFrame\n",
       "Columns: [AÑO_VIGENCIA, CODIGO, DESCRIPCION, SEXO, AMBITO, ESTANCIA, COBERTURA, DUPLICADO, VIDA, DX_RELACIONADO,  ]\n",
       "Index: []"
      ]
     },
     "execution_count": 50,
     "metadata": {},
     "output_type": "execute_result"
    }
   ],
   "source": [
    "df_cups.loc[df_cups.duplicated(subset='CODIGO')]"
   ]
  },
  {
   "cell_type": "markdown",
   "metadata": {},
   "source": [
    "## Tabla tbl_suf_cups_2024\n",
    "\n",
    "| Columna                        | Tipo         |\n",
    "|--------------------------------|--------------|\n",
    "| CODIGO                         | VARCHAR2(255)|\n",
    "| DESCRIPCION                    | VARCHAR2(500)|\n",
    "| FINANCIACION 2481 y 163 de 2021| VARCHAR2(255)|\n",
    "| FINANCIACION Res 2292 de 2021  | VARCHAR2(255)|\n",
    "| COBERTURA                      | VARCHAR2(255)|\n",
    "| SEXO                           | VARCHAR2(255)|\n",
    "| AMBITO                         | VARCHAR2(255)|\n",
    "| ESTANCIA                       | VARCHAR2(255)|\n",
    "| DUPLICADO                      | VARCHAR2(255)|\n",
    "| VIDA                           | VARCHAR2(255)|\n",
    "| CIE_10 RELACIONADOS            | VARCHAR2(255)|\n",
    "| PBS                            | VARCHAR2(255)|\n",
    "| CUPS_HOMOLOGO_PRIMERA_VEZ      | VARCHAR2(255)|\n",
    "| DESC_HOMOLOGO                  | VARCHAR2(255)|\n",
    "| INCLUSION                      | VARCHAR2(255)|"
   ]
  },
  {
   "cell_type": "code",
   "execution_count": 58,
   "metadata": {},
   "outputs": [
    {
     "data": {
      "text/html": [
       "<div>\n",
       "<style scoped>\n",
       "    .dataframe tbody tr th:only-of-type {\n",
       "        vertical-align: middle;\n",
       "    }\n",
       "\n",
       "    .dataframe tbody tr th {\n",
       "        vertical-align: top;\n",
       "    }\n",
       "\n",
       "    .dataframe thead th {\n",
       "        text-align: right;\n",
       "    }\n",
       "</style>\n",
       "<table border=\"1\" class=\"dataframe\">\n",
       "  <thead>\n",
       "    <tr style=\"text-align: right;\">\n",
       "      <th></th>\n",
       "      <th>CODIGO</th>\n",
       "      <th>DESCRIPCION</th>\n",
       "      <th>SEXO</th>\n",
       "      <th>AMBITO</th>\n",
       "      <th>ESTANCIA</th>\n",
       "      <th>COBERTURA</th>\n",
       "      <th>DUPLICADO</th>\n",
       "      <th>VIDA</th>\n",
       "      <th>DX_RELACIONADO</th>\n",
       "    </tr>\n",
       "  </thead>\n",
       "  <tbody>\n",
       "    <tr>\n",
       "      <th>0</th>\n",
       "      <td>010101</td>\n",
       "      <td>PUNCION CISTERNAL, VIA LATERAL</td>\n",
       "      <td>Z</td>\n",
       "      <td>Z</td>\n",
       "      <td>Z</td>\n",
       "      <td>PBS</td>\n",
       "      <td>D</td>\n",
       "      <td>Z</td>\n",
       "      <td>NaN</td>\n",
       "    </tr>\n",
       "    <tr>\n",
       "      <th>1</th>\n",
       "      <td>010102</td>\n",
       "      <td>PUNCION CISTERNAL, VIA MEDIAL</td>\n",
       "      <td>Z</td>\n",
       "      <td>Z</td>\n",
       "      <td>Z</td>\n",
       "      <td>PBS</td>\n",
       "      <td>D</td>\n",
       "      <td>Z</td>\n",
       "      <td>NaN</td>\n",
       "    </tr>\n",
       "    <tr>\n",
       "      <th>2</th>\n",
       "      <td>010103</td>\n",
       "      <td>PUNCION CISTERNAL</td>\n",
       "      <td>Z</td>\n",
       "      <td>Z</td>\n",
       "      <td>Z</td>\n",
       "      <td>PBS</td>\n",
       "      <td>Z</td>\n",
       "      <td>Z</td>\n",
       "      <td>NaN</td>\n",
       "    </tr>\n",
       "    <tr>\n",
       "      <th>3</th>\n",
       "      <td>010201</td>\n",
       "      <td>PUNCION (ASPIRACION DE LIQUIDO) VENTRICULAR A ...</td>\n",
       "      <td>Z</td>\n",
       "      <td>Z</td>\n",
       "      <td>Z</td>\n",
       "      <td>PBS</td>\n",
       "      <td>D</td>\n",
       "      <td>Z</td>\n",
       "      <td>NaN</td>\n",
       "    </tr>\n",
       "    <tr>\n",
       "      <th>4</th>\n",
       "      <td>010202</td>\n",
       "      <td>PUNCION (ASPIRACION DE LIQUIDO) VENTRICULAR PO...</td>\n",
       "      <td>Z</td>\n",
       "      <td>Z</td>\n",
       "      <td>Z</td>\n",
       "      <td>PBS</td>\n",
       "      <td>D</td>\n",
       "      <td>Z</td>\n",
       "      <td>NaN</td>\n",
       "    </tr>\n",
       "  </tbody>\n",
       "</table>\n",
       "</div>"
      ],
      "text/plain": [
       "   CODIGO                                        DESCRIPCION SEXO AMBITO  \\\n",
       "0  010101                     PUNCION CISTERNAL, VIA LATERAL    Z      Z   \n",
       "1  010102                      PUNCION CISTERNAL, VIA MEDIAL    Z      Z   \n",
       "2  010103                                  PUNCION CISTERNAL    Z      Z   \n",
       "3  010201  PUNCION (ASPIRACION DE LIQUIDO) VENTRICULAR A ...    Z      Z   \n",
       "4  010202  PUNCION (ASPIRACION DE LIQUIDO) VENTRICULAR PO...    Z      Z   \n",
       "\n",
       "  ESTANCIA COBERTURA DUPLICADO VIDA DX_RELACIONADO  \n",
       "0        Z       PBS         D    Z            NaN  \n",
       "1        Z       PBS         D    Z            NaN  \n",
       "2        Z       PBS         Z    Z            NaN  \n",
       "3        Z       PBS         D    Z            NaN  \n",
       "4        Z       PBS         D    Z            NaN  "
      ]
     },
     "execution_count": 58,
     "metadata": {},
     "output_type": "execute_result"
    }
   ],
   "source": [
    "df_cups.head()"
   ]
  },
  {
   "cell_type": "code",
   "execution_count": 57,
   "metadata": {},
   "outputs": [],
   "source": [
    "df_cups.drop(columns=['AÑO_VIGENCIA',' '], inplace=True)"
   ]
  },
  {
   "cell_type": "code",
   "execution_count": 60,
   "metadata": {},
   "outputs": [],
   "source": [
    "df_cups.rename(columns={'DX_RELACIONADO':'CIE_10 RELACIONADOS'}, inplace=True)"
   ]
  },
  {
   "cell_type": "code",
   "execution_count": 61,
   "metadata": {},
   "outputs": [
    {
     "data": {
      "text/plain": [
       "9991"
      ]
     },
     "execution_count": 61,
     "metadata": {},
     "output_type": "execute_result"
    }
   ],
   "source": [
    "\n",
    "with engine.connect() as connection:\n",
    "    \n",
    "    # Crear cursor\n",
    "    cursor = connection.connection.cursor()\n",
    "    \n",
    "        # Borra tabla si existe\n",
    "    try:\n",
    "        cursor.execute(f\"\"\"\n",
    "            TRUNCATE TABLE tbl_suf_cups_2024\n",
    "        \"\"\")    \n",
    "    except Exception as e:\n",
    "        print(e)\n",
    "    \n",
    "\n",
    "# Hacer la insercion por chunk df_liquidados\n",
    "df_cups.to_sql('tbl_suf_cups_2024', con=engine, if_exists='append', index=False)"
   ]
  },
  {
   "cell_type": "markdown",
   "metadata": {},
   "source": [
    "## Actualizacion insumos"
   ]
  },
  {
   "cell_type": "code",
   "execution_count": 65,
   "metadata": {},
   "outputs": [],
   "source": [
    "ruta_insumos = Path(r\"D:\\Keralty scripts\\Automatizaciones-python\\actualizacion_parametricas_upc\\extracted_files\\Vigencia 2024\\2024_INSUMOS Y DISPOSITIVOS_01-24.xlsb\")\n",
    "df_insumos = pd.read_excel(ruta_insumos, skiprows=4,engine='pyxlsb')"
   ]
  },
  {
   "cell_type": "code",
   "execution_count": 71,
   "metadata": {},
   "outputs": [
    {
     "data": {
      "text/html": [
       "<div>\n",
       "<style scoped>\n",
       "    .dataframe tbody tr th:only-of-type {\n",
       "        vertical-align: middle;\n",
       "    }\n",
       "\n",
       "    .dataframe tbody tr th {\n",
       "        vertical-align: top;\n",
       "    }\n",
       "\n",
       "    .dataframe thead th {\n",
       "        text-align: right;\n",
       "    }\n",
       "</style>\n",
       "<table border=\"1\" class=\"dataframe\">\n",
       "  <thead>\n",
       "    <tr style=\"text-align: right;\">\n",
       "      <th></th>\n",
       "      <th>CÓDIGO</th>\n",
       "      <th>DESCRIPCIÓN</th>\n",
       "    </tr>\n",
       "  </thead>\n",
       "  <tbody>\n",
       "    <tr>\n",
       "      <th>0</th>\n",
       "      <td>170100</td>\n",
       "      <td>Lentes</td>\n",
       "    </tr>\n",
       "    <tr>\n",
       "      <th>1</th>\n",
       "      <td>170200</td>\n",
       "      <td>Monturas</td>\n",
       "    </tr>\n",
       "    <tr>\n",
       "      <th>2</th>\n",
       "      <td>D00001</td>\n",
       "      <td>Stent duodenal</td>\n",
       "    </tr>\n",
       "    <tr>\n",
       "      <th>3</th>\n",
       "      <td>D00002</td>\n",
       "      <td>Stent coronario recubierto o medicado</td>\n",
       "    </tr>\n",
       "    <tr>\n",
       "      <th>4</th>\n",
       "      <td>D00003</td>\n",
       "      <td>Stent coronario convencional o no recubierto</td>\n",
       "    </tr>\n",
       "    <tr>\n",
       "      <th>5</th>\n",
       "      <td>D00004</td>\n",
       "      <td>Glucometro entregado a pacientes diabeticos qu...</td>\n",
       "    </tr>\n",
       "    <tr>\n",
       "      <th>6</th>\n",
       "      <td>D00005</td>\n",
       "      <td>Tirillas entregado a pacientes diabeticos que ...</td>\n",
       "    </tr>\n",
       "    <tr>\n",
       "      <th>7</th>\n",
       "      <td>D00006</td>\n",
       "      <td>Lancetas entregado a pacientes diabeticos que ...</td>\n",
       "    </tr>\n",
       "    <tr>\n",
       "      <th>8</th>\n",
       "      <td>D00007</td>\n",
       "      <td>Kit de ostomia  (completo)</td>\n",
       "    </tr>\n",
       "    <tr>\n",
       "      <th>9</th>\n",
       "      <td>D00041</td>\n",
       "      <td>Glucometro entregado a pacientes diabeticos qu...</td>\n",
       "    </tr>\n",
       "    <tr>\n",
       "      <th>10</th>\n",
       "      <td>D00071</td>\n",
       "      <td>Barrera Plana  (galleta o caraña) Kit de ostomia</td>\n",
       "    </tr>\n",
       "    <tr>\n",
       "      <th>11</th>\n",
       "      <td>D00072</td>\n",
       "      <td>Barrera Convexa (galleta o caraña) Kit de ostomia</td>\n",
       "    </tr>\n",
       "    <tr>\n",
       "      <th>12</th>\n",
       "      <td>D00073</td>\n",
       "      <td>Bolsa de colostomia de Kit de ostomia</td>\n",
       "    </tr>\n",
       "    <tr>\n",
       "      <th>13</th>\n",
       "      <td>D00074</td>\n",
       "      <td>Bolsa de urostomia Kit de ostomia</td>\n",
       "    </tr>\n",
       "    <tr>\n",
       "      <th>14</th>\n",
       "      <td>D00075</td>\n",
       "      <td>Cemento (pegante o pasta) de Kit de ostomia</td>\n",
       "    </tr>\n",
       "    <tr>\n",
       "      <th>15</th>\n",
       "      <td>D00076</td>\n",
       "      <td>Gancho (pinza) de Kit de ostomia</td>\n",
       "    </tr>\n",
       "    <tr>\n",
       "      <th>16</th>\n",
       "      <td>D00077</td>\n",
       "      <td>Frasco de polvo  de Kit de ostomia</td>\n",
       "    </tr>\n",
       "    <tr>\n",
       "      <th>17</th>\n",
       "      <td>D00078</td>\n",
       "      <td>Cinturon de Kit de ostomia</td>\n",
       "    </tr>\n",
       "    <tr>\n",
       "      <th>18</th>\n",
       "      <td>INSUMO</td>\n",
       "      <td>INSUMOS</td>\n",
       "    </tr>\n",
       "  </tbody>\n",
       "</table>\n",
       "</div>"
      ],
      "text/plain": [
       "    CÓDIGO                                        DESCRIPCIÓN\n",
       "0   170100                                             Lentes\n",
       "1   170200                                           Monturas\n",
       "2   D00001                                     Stent duodenal\n",
       "3   D00002             Stent coronario recubierto o medicado \n",
       "4   D00003      Stent coronario convencional o no recubierto \n",
       "5   D00004  Glucometro entregado a pacientes diabeticos qu...\n",
       "6   D00005  Tirillas entregado a pacientes diabeticos que ...\n",
       "7   D00006  Lancetas entregado a pacientes diabeticos que ...\n",
       "8   D00007                         Kit de ostomia  (completo)\n",
       "9   D00041  Glucometro entregado a pacientes diabeticos qu...\n",
       "10  D00071   Barrera Plana  (galleta o caraña) Kit de ostomia\n",
       "11  D00072  Barrera Convexa (galleta o caraña) Kit de ostomia\n",
       "12  D00073              Bolsa de colostomia de Kit de ostomia\n",
       "13  D00074                  Bolsa de urostomia Kit de ostomia\n",
       "14  D00075        Cemento (pegante o pasta) de Kit de ostomia\n",
       "15  D00076                   Gancho (pinza) de Kit de ostomia\n",
       "16  D00077                 Frasco de polvo  de Kit de ostomia\n",
       "17  D00078                         Cinturon de Kit de ostomia\n",
       "18  INSUMO                                            INSUMOS"
      ]
     },
     "execution_count": 71,
     "metadata": {},
     "output_type": "execute_result"
    }
   ],
   "source": [
    "df_insumos"
   ]
  },
  {
   "cell_type": "code",
   "execution_count": 68,
   "metadata": {},
   "outputs": [
    {
     "data": {
      "text/plain": [
       "(19, 4)"
      ]
     },
     "execution_count": 68,
     "metadata": {},
     "output_type": "execute_result"
    }
   ],
   "source": [
    "df_insumos.shape"
   ]
  },
  {
   "cell_type": "code",
   "execution_count": 69,
   "metadata": {},
   "outputs": [
    {
     "data": {
      "text/html": [
       "<div>\n",
       "<style scoped>\n",
       "    .dataframe tbody tr th:only-of-type {\n",
       "        vertical-align: middle;\n",
       "    }\n",
       "\n",
       "    .dataframe tbody tr th {\n",
       "        vertical-align: top;\n",
       "    }\n",
       "\n",
       "    .dataframe thead th {\n",
       "        text-align: right;\n",
       "    }\n",
       "</style>\n",
       "<table border=\"1\" class=\"dataframe\">\n",
       "  <thead>\n",
       "    <tr style=\"text-align: right;\">\n",
       "      <th></th>\n",
       "      <th>AÑO_VIGENCIA</th>\n",
       "      <th>CÓDIGO</th>\n",
       "      <th>DESCRIPCIÓN</th>\n",
       "      <th></th>\n",
       "    </tr>\n",
       "  </thead>\n",
       "  <tbody>\n",
       "  </tbody>\n",
       "</table>\n",
       "</div>"
      ],
      "text/plain": [
       "Empty DataFrame\n",
       "Columns: [AÑO_VIGENCIA, CÓDIGO, DESCRIPCIÓN,  ]\n",
       "Index: []"
      ]
     },
     "execution_count": 69,
     "metadata": {},
     "output_type": "execute_result"
    }
   ],
   "source": [
    "df_insumos.loc[df_insumos.duplicated(subset='CÓDIGO')]"
   ]
  },
  {
   "cell_type": "code",
   "execution_count": 70,
   "metadata": {},
   "outputs": [],
   "source": [
    "df_insumos.drop(columns=['AÑO_VIGENCIA', ' '], inplace=True)"
   ]
  },
  {
   "cell_type": "code",
   "execution_count": 73,
   "metadata": {},
   "outputs": [],
   "source": [
    "df_insumos.rename(columns={'CÓDIGO':'CODIGO','DESCRIPCIÓN':'DESCRIPCION'}, inplace=True)"
   ]
  },
  {
   "cell_type": "code",
   "execution_count": 74,
   "metadata": {},
   "outputs": [
    {
     "data": {
      "text/plain": [
       "19"
      ]
     },
     "execution_count": 74,
     "metadata": {},
     "output_type": "execute_result"
    }
   ],
   "source": [
    "\n",
    "with engine.connect() as connection:\n",
    "    \n",
    "    # Crear cursor\n",
    "    cursor = connection.connection.cursor()\n",
    "    \n",
    "        # Borra tabla si existe\n",
    "    try:\n",
    "        cursor.execute(f\"\"\"\n",
    "            TRUNCATE TABLE tbl_suf_insumos_2024\n",
    "        \"\"\")    \n",
    "    except Exception as e:\n",
    "        print(e)\n",
    "    \n",
    "\n",
    "# Hacer la insercion por chunk df_liquidados\n",
    "df_insumos.to_sql('tbl_suf_insumos_2024', con=engine, if_exists='append', index=False)"
   ]
  }
 ],
 "metadata": {
  "kernelspec": {
   "display_name": "actualizacion_parametricas_upc_py3.11",
   "language": "python",
   "name": "python3"
  },
  "language_info": {
   "codemirror_mode": {
    "name": "ipython",
    "version": 3
   },
   "file_extension": ".py",
   "mimetype": "text/x-python",
   "name": "python",
   "nbconvert_exporter": "python",
   "pygments_lexer": "ipython3",
   "version": "3.12.4"
  }
 },
 "nbformat": 4,
 "nbformat_minor": 2
}
