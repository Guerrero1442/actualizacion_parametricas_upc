{
 "cells": [
  {
   "cell_type": "code",
   "execution_count": 13,
   "metadata": {},
   "outputs": [],
   "source": [
    "import pandas as pd\n",
    "from bs4 import BeautifulSoup\n",
    "import requests\n",
    "from pathlib import Path\n",
    "# Coneccion base de datos\n",
    "from sqlalchemy import create_engine\n",
    "import cx_Oracle"
   ]
  },
  {
   "cell_type": "code",
   "execution_count": 14,
   "metadata": {},
   "outputs": [],
   "source": [
    "# Conectar con base de datos\n",
    "import configparser\n",
    "\n",
    "config = configparser.ConfigParser()\n",
    "\n",
    "config.read('../config.ini')\n",
    "\n",
    "# Obtener los datos de conexión a la base de datos\n",
    "host = config['oracle']['host']\n",
    "port = config['oracle']['port']\n",
    "sid = config['oracle']['service_name']\n",
    "user = config['oracle']['user']\n",
    "password = config['oracle']['password']\n",
    "\n",
    "# Configuración de la base de datos\n",
    "dsn = cx_Oracle.makedsn(host, port, sid)\n",
    "\n",
    "engine = create_engine(f'oracle+cx_oracle://{user}:{password}@{dsn}')"
   ]
  },
  {
   "cell_type": "code",
   "execution_count": 7,
   "metadata": {},
   "outputs": [
    {
     "name": "stderr",
     "output_type": "stream",
     "text": [
      "c:\\Users\\camil\\anaconda3\\envs\\actualizacion_parametricas_upc_py3.11\\Lib\\site-packages\\urllib3\\connectionpool.py:1099: InsecureRequestWarning: Unverified HTTPS request is being made to host 'www.minsalud.gov.co'. Adding certificate verification is strongly advised. See: https://urllib3.readthedocs.io/en/latest/advanced-usage.html#tls-warnings\n",
      "  warnings.warn(\n"
     ]
    },
    {
     "name": "stdout",
     "output_type": "stream",
     "text": [
      "Descargando https://www.minsalud.gov.co/sites/rid/Lists/BibliotecaDigital/RIDE/VP/RBC/Vigencia%202024.zip a ../downloads\\Vigencia%202024.zip\n"
     ]
    },
    {
     "name": "stderr",
     "output_type": "stream",
     "text": [
      "c:\\Users\\camil\\anaconda3\\envs\\actualizacion_parametricas_upc_py3.11\\Lib\\site-packages\\urllib3\\connectionpool.py:1099: InsecureRequestWarning: Unverified HTTPS request is being made to host 'www.minsalud.gov.co'. Adding certificate verification is strongly advised. See: https://urllib3.readthedocs.io/en/latest/advanced-usage.html#tls-warnings\n",
      "  warnings.warn(\n"
     ]
    },
    {
     "name": "stdout",
     "output_type": "stream",
     "text": [
      "Descarga completada.\n"
     ]
    }
   ],
   "source": [
    "import requests\n",
    "from bs4 import BeautifulSoup\n",
    "import os\n",
    "\n",
    "# URL de la página web\n",
    "url = \"https://www.minsalud.gov.co/salud/POS/Paginas/unidad-de-pago-por-capitacion-upc.aspx\"\n",
    "\n",
    "# Obtener el contenido de la página web con verificación SSL deshabilitada\n",
    "response = requests.get(url, verify=False)\n",
    "html_content = response.content\n",
    "\n",
    "# Analizar el contenido HTML\n",
    "soup = BeautifulSoup(html_content, 'html.parser')\n",
    "\n",
    "# Encontrar todos los enlaces\n",
    "links = soup.find_all('a')\n",
    "\n",
    "# Directorio para guardar los archivos descargados\n",
    "download_dir = '../downloads'\n",
    "os.makedirs(download_dir, exist_ok=True)\n",
    "\n",
    "# Descargar los archivos ZIP\n",
    "for link in links:\n",
    "    href = link.get('href')\n",
    "    if href and href.endswith('Vigencia%202024.zip'):\n",
    "        file_url = href if href.startswith('http') else f\"https://www.minsalud.gov.co{href}\"  # Ajusta si es necesario\n",
    "        file_name = os.path.join(download_dir, os.path.basename(href))\n",
    "        print(f\"Descargando {file_url} a {file_name}\")\n",
    "        zip_response = requests.get(file_url, verify=False)\n",
    "        with open(file_name, 'wb') as file:\n",
    "            file.write(zip_response.content)\n",
    "\n",
    "print(\"Descarga completada.\")\n"
   ]
  },
  {
   "cell_type": "code",
   "execution_count": 8,
   "metadata": {},
   "outputs": [],
   "source": [
    "# Abrir zip y extraer archivos\n",
    "import zipfile\n",
    "\n",
    "def extract_zip(zip_file, extract_dir):\n",
    "    with zipfile.ZipFile(zip_file, 'r') as zip_ref:\n",
    "        zip_ref.extractall(extract_dir)\n",
    "\n",
    "\n",
    "extract_zip('../downloads/Vigencia%202024.zip', '../extracted_files')        "
   ]
  },
  {
   "cell_type": "code",
   "execution_count": 2,
   "metadata": {},
   "outputs": [],
   "source": [
    "ruta = Path(r\"D:\\Keralty scripts\\Automatizaciones-python\\actualizacion_parametricas_upc\\extracted_files\\Vigencia 2024\\2024_TR_CIE10_05_IMG_WEB_26Mar2024.xlsb\")\n",
    "df = pd.read_excel(ruta, skiprows=4, engine='pyxlsb')"
   ]
  },
  {
   "cell_type": "code",
   "execution_count": 3,
   "metadata": {},
   "outputs": [
    {
     "data": {
      "text/html": [
       "<div>\n",
       "<style scoped>\n",
       "    .dataframe tbody tr th:only-of-type {\n",
       "        vertical-align: middle;\n",
       "    }\n",
       "\n",
       "    .dataframe tbody tr th {\n",
       "        vertical-align: top;\n",
       "    }\n",
       "\n",
       "    .dataframe thead th {\n",
       "        text-align: right;\n",
       "    }\n",
       "</style>\n",
       "<table border=\"1\" class=\"dataframe\">\n",
       "  <thead>\n",
       "    <tr style=\"text-align: right;\">\n",
       "      <th></th>\n",
       "      <th>VIGENCIA</th>\n",
       "      <th>CODIGO</th>\n",
       "      <th>DESCRIPCION</th>\n",
       "      <th>SEXO</th>\n",
       "      <th>EDAD_LIM_INF</th>\n",
       "      <th>EDAD_LIM_SUP</th>\n",
       "    </tr>\n",
       "  </thead>\n",
       "  <tbody>\n",
       "    <tr>\n",
       "      <th>0</th>\n",
       "      <td>2024</td>\n",
       "      <td>A000</td>\n",
       "      <td>COLERA DEBIDO A VIBRIO CHOLERAE 01, BIOTIPO CH...</td>\n",
       "      <td>A</td>\n",
       "      <td>0</td>\n",
       "      <td>120</td>\n",
       "    </tr>\n",
       "    <tr>\n",
       "      <th>1</th>\n",
       "      <td>2024</td>\n",
       "      <td>A001</td>\n",
       "      <td>COLERA DEBIDO A VIBRIO CHOLERAE 01, BIOTIPO EL...</td>\n",
       "      <td>A</td>\n",
       "      <td>0</td>\n",
       "      <td>120</td>\n",
       "    </tr>\n",
       "    <tr>\n",
       "      <th>2</th>\n",
       "      <td>2024</td>\n",
       "      <td>A009</td>\n",
       "      <td>COLERA, NO ESPECIFICADO</td>\n",
       "      <td>A</td>\n",
       "      <td>0</td>\n",
       "      <td>120</td>\n",
       "    </tr>\n",
       "    <tr>\n",
       "      <th>3</th>\n",
       "      <td>2024</td>\n",
       "      <td>A010</td>\n",
       "      <td>FIEBRE TIFOIDEA</td>\n",
       "      <td>A</td>\n",
       "      <td>0</td>\n",
       "      <td>120</td>\n",
       "    </tr>\n",
       "    <tr>\n",
       "      <th>4</th>\n",
       "      <td>2024</td>\n",
       "      <td>A011</td>\n",
       "      <td>FIEBRE PARATIFOIDEA A</td>\n",
       "      <td>A</td>\n",
       "      <td>0</td>\n",
       "      <td>120</td>\n",
       "    </tr>\n",
       "  </tbody>\n",
       "</table>\n",
       "</div>"
      ],
      "text/plain": [
       "   VIGENCIA CODIGO                                        DESCRIPCION SEXO  \\\n",
       "0      2024   A000  COLERA DEBIDO A VIBRIO CHOLERAE 01, BIOTIPO CH...    A   \n",
       "1      2024   A001  COLERA DEBIDO A VIBRIO CHOLERAE 01, BIOTIPO EL...    A   \n",
       "2      2024   A009                            COLERA, NO ESPECIFICADO    A   \n",
       "3      2024   A010                                    FIEBRE TIFOIDEA    A   \n",
       "4      2024   A011                              FIEBRE PARATIFOIDEA A    A   \n",
       "\n",
       "   EDAD_LIM_INF  EDAD_LIM_SUP  \n",
       "0             0           120  \n",
       "1             0           120  \n",
       "2             0           120  \n",
       "3             0           120  \n",
       "4             0           120  "
      ]
     },
     "execution_count": 3,
     "metadata": {},
     "output_type": "execute_result"
    }
   ],
   "source": [
    "df.head()"
   ]
  },
  {
   "cell_type": "code",
   "execution_count": 5,
   "metadata": {},
   "outputs": [
    {
     "data": {
      "text/plain": [
       "(12634, 6)"
      ]
     },
     "execution_count": 5,
     "metadata": {},
     "output_type": "execute_result"
    }
   ],
   "source": [
    "df.shape"
   ]
  },
  {
   "cell_type": "code",
   "execution_count": 8,
   "metadata": {},
   "outputs": [
    {
     "data": {
      "text/html": [
       "<div>\n",
       "<style scoped>\n",
       "    .dataframe tbody tr th:only-of-type {\n",
       "        vertical-align: middle;\n",
       "    }\n",
       "\n",
       "    .dataframe tbody tr th {\n",
       "        vertical-align: top;\n",
       "    }\n",
       "\n",
       "    .dataframe thead th {\n",
       "        text-align: right;\n",
       "    }\n",
       "</style>\n",
       "<table border=\"1\" class=\"dataframe\">\n",
       "  <thead>\n",
       "    <tr style=\"text-align: right;\">\n",
       "      <th></th>\n",
       "      <th>VIGENCIA</th>\n",
       "      <th>CODIGO</th>\n",
       "      <th>DESCRIPCION</th>\n",
       "      <th>SEXO</th>\n",
       "      <th>EDAD_LIM_INF</th>\n",
       "      <th>EDAD_LIM_SUP</th>\n",
       "    </tr>\n",
       "  </thead>\n",
       "  <tbody>\n",
       "  </tbody>\n",
       "</table>\n",
       "</div>"
      ],
      "text/plain": [
       "Empty DataFrame\n",
       "Columns: [VIGENCIA, CODIGO, DESCRIPCION, SEXO, EDAD_LIM_INF, EDAD_LIM_SUP]\n",
       "Index: []"
      ]
     },
     "execution_count": 8,
     "metadata": {},
     "output_type": "execute_result"
    }
   ],
   "source": [
    "# Revisar si hay unicos\n",
    "df.loc[df.duplicated(subset='CODIGO')]"
   ]
  },
  {
   "cell_type": "markdown",
   "metadata": {},
   "source": [
    "## Estructura tabla TBL_SUF_CIE10_2024\n",
    "\n",
    "| Columna                                | Tipo         |\n",
    "|----------------------------------------|--------------|\n",
    "| Tabla                                  | VARCHAR2(255)|\n",
    "| CAPÍTULO                              | VARCHAR2(255)|\n",
    "| NOMBRE CAPÍTULO               | VARCHAR2(255)|\n",
    "| CIE10                                  | VARCHAR2(255)|\n",
    "| DESCRIPCIÓN CÓDIGOS DE CUATRO CARACTERES | VARCHAR2(255)|\n",
    "| CODIGO_ CIE-10_ TRES_CARACTERES | VARCHAR2(255)|\n",
    "| DESCRIPCION_CODIGOS_TRES_CARACTERES | VARCHAR2(255)|\n",
    "| SEXO                                   | VARCHAR2(255)|\n",
    "| LIMITE_INFERIOR                 | VARCHAR2(255)|\n",
    "| LIMITE_SUPERIOR                | VARCHAR2(255)|\n",
    "| GRUPO_ MORTALIDAD_LISTA_ 6-607 | VARCHAR2(255)|\n",
    "| GRUPO_MORTALIDAD_LISTA_105 | VARCHAR2(255)|\n",
    "| VALOR_LIM_INF                      | VARCHAR2(255)|\n",
    "| VALOR_LIM_SUP                     | VARCHAR2(255)|\n",
    "| TIPO_LIMI_INFERIOR              | VARCHAR2(20)|\n",
    "| TIPO_LIMI_SUPERIOR             | VARCHAR2(20)|"
   ]
  },
  {
   "cell_type": "code",
   "execution_count": 10,
   "metadata": {},
   "outputs": [],
   "source": [
    "\n",
    "df.rename(columns={'VIGENCIA': 'Tabla', 'CODIGO':'CIE10', 'DESCRIPCION': 'DESCRIPCIÓN CÓDIGOS DE CUATRO CARACTERES', 'EDAD_LIM_INF': 'VALOR_LIM_INF','EDAD_LIM_SUP': 'VALOR_LIM_SUP'}, inplace=True)"
   ]
  },
  {
   "cell_type": "code",
   "execution_count": 12,
   "metadata": {},
   "outputs": [
    {
     "data": {
      "text/plain": [
       "['Tabla',\n",
       " 'CIE10',\n",
       " 'DESCRIPCIÓN CÓDIGOS DE CUATRO CARACTERES',\n",
       " 'SEXO',\n",
       " 'VALOR_LIM_INF',\n",
       " 'VALOR_LIM_SUP']"
      ]
     },
     "execution_count": 12,
     "metadata": {},
     "output_type": "execute_result"
    }
   ],
   "source": [
    "df.columns.to_list()"
   ]
  },
  {
   "cell_type": "code",
   "execution_count": 15,
   "metadata": {},
   "outputs": [
    {
     "data": {
      "text/plain": [
       "12634"
      ]
     },
     "execution_count": 15,
     "metadata": {},
     "output_type": "execute_result"
    }
   ],
   "source": [
    "# Copiar estructura de la tabla EPSS05LIQUIDACION_202405 para crear la tabla EPSS05LIQUIDACION_202406\n",
    "\n",
    "with engine.connect() as connection:\n",
    "    \n",
    "    # Crear cursor\n",
    "    cursor = connection.connection.cursor()\n",
    "    \n",
    "        # Borra tabla si existe\n",
    "    try:\n",
    "        cursor.execute(f\"\"\"\n",
    "            TRUNCATE TABLE TBL_SUF_CIE10_2024\n",
    "        \"\"\")    \n",
    "    except Exception as e:\n",
    "        print(e)\n",
    "    \n",
    "\n",
    "# Hacer la insercion por chunk df_liquidados\n",
    "df.to_sql('tbl_suf_cie10_2024', con=engine, if_exists='append', index=False)"
   ]
  }
 ],
 "metadata": {
  "kernelspec": {
   "display_name": "actualizacion_parametricas_upc_py3.11",
   "language": "python",
   "name": "python3"
  },
  "language_info": {
   "codemirror_mode": {
    "name": "ipython",
    "version": 3
   },
   "file_extension": ".py",
   "mimetype": "text/x-python",
   "name": "python",
   "nbconvert_exporter": "python",
   "pygments_lexer": "ipython3",
   "version": "3.12.4"
  }
 },
 "nbformat": 4,
 "nbformat_minor": 2
}
